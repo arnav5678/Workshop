{
 "cells": [
  {
   "cell_type": "code",
   "execution_count": 5,
   "metadata": {},
   "outputs": [
    {
     "data": {
      "text/plain": [
       "['polynomial_regression_model.joblib']"
      ]
     },
     "execution_count": 5,
     "metadata": {},
     "output_type": "execute_result"
    }
   ],
   "source": [
    "import pandas as pd\n",
    "from sklearn.model_selection import train_test_split\n",
    "from sklearn.preprocessing import PolynomialFeatures\n",
    "from sklearn.linear_model import LinearRegression\n",
    "from sklearn.pipeline import make_pipeline\n",
    "import joblib\n",
    "import re\n",
    "\n",
    "# Load dataset\n",
    "df = pd.read_csv('googleplaystore.csv')\n",
    "\n",
    "# Define function to convert size to float\n",
    "def size_to_float(size):\n",
    "    if pd.isnull(size) or 'Varies with device' in size:\n",
    "        return None\n",
    "    match = re.search(r'(\\d+(?:\\.\\d+)?)', size)\n",
    "    if match:\n",
    "        value = float(match.group(1))\n",
    "        if 'M' in size:\n",
    "            return value * 1e6\n",
    "        elif 'k' in size:\n",
    "            return value * 1e3\n",
    "        elif '+' in size:\n",
    "            return value * 1e3\n",
    "        else:\n",
    "            return value\n",
    "    else:\n",
    "        return None\n",
    "\n",
    "# Apply size_to_float function to 'Size' column\n",
    "df['Size'] = df['Size'].apply(size_to_float)\n",
    "\n",
    "# Remove '$' and ',' from 'Price' column and convert to float\n",
    "df['Price'] = df['Price'].replace('[\\$,]', '', regex=True)\n",
    "df['Price'] = pd.to_numeric(df['Price'], errors='coerce')\n",
    "\n",
    "# Remove ',' and '+' from 'Installs' column and convert to int\n",
    "df['Installs'] = df['Installs'].replace('[\\+,]', '', regex=True)\n",
    "df['Installs'] = pd.to_numeric(df['Installs'], errors='coerce')\n",
    "\n",
    "# Drop rows with missing values after conversion\n",
    "df = df[['Rating', 'Reviews', 'Size', 'Installs', 'Price']].dropna()\n",
    "\n",
    "# Define features and target variable\n",
    "X = df[['Reviews', 'Size', 'Installs', 'Price']]\n",
    "y = df['Rating']\n",
    "\n",
    "# Split data into training and test sets\n",
    "X_train, X_test, y_train, y_test = train_test_split(X, y, test_size=0.2, random_state=0)\n",
    "\n",
    "# Create Polynomial Features object (degree 2 for quadratic features)\n",
    "poly = PolynomialFeatures(degree=2)\n",
    "\n",
    "# Create a pipeline that first transforms data and then applies Linear Regression\n",
    "model = make_pipeline(poly, LinearRegression())\n",
    "\n",
    "# Train the model\n",
    "model.fit(X_train, y_train)\n",
    "\n",
    "# Save the model\n",
    "joblib.dump(model, 'polynomial_regression_model.joblib')\n"
   ]
  },
  {
   "cell_type": "code",
   "execution_count": null,
   "metadata": {},
   "outputs": [],
   "source": []
  }
 ],
 "metadata": {
  "kernelspec": {
   "display_name": "Python 3",
   "language": "python",
   "name": "python3"
  },
  "language_info": {
   "codemirror_mode": {
    "name": "ipython",
    "version": 3
   },
   "file_extension": ".py",
   "mimetype": "text/x-python",
   "name": "python",
   "nbconvert_exporter": "python",
   "pygments_lexer": "ipython3",
   "version": "3.11.4"
  }
 },
 "nbformat": 4,
 "nbformat_minor": 2
}
